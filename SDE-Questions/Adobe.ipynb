{
 "cells": [
  {
   "cell_type": "markdown",
   "metadata": {},
   "source": [
    "# Adobe Interview Questions"
   ]
  },
  {
   "cell_type": "markdown",
   "metadata": {},
   "source": [
    "### Count set bits in an integer"
   ]
  },
  {
   "cell_type": "code",
   "execution_count": 6,
   "metadata": {},
   "outputs": [
    {
     "name": "stdout",
     "output_type": "stream",
     "text": [
      "3\n"
     ]
    }
   ],
   "source": [
    "#Method 1\n",
    "\n",
    "n = int(input('Enter the number : '))\n",
    "s = str(bin(n))[2:]\n",
    "sum=0\n",
    "for i in s:\n",
    "    if i is '1':\n",
    "        sum+=1\n",
    "\n",
    "print(sum)"
   ]
  },
  {
   "cell_type": "code",
   "execution_count": 12,
   "metadata": {},
   "outputs": [
    {
     "name": "stdout",
     "output_type": "stream",
     "text": [
      "7\n"
     ]
    }
   ],
   "source": [
    "#method 2: using bitwise and operator\n",
    "n = int(input('Enter the number : '))\n",
    "count = 0\n",
    "while(n):\n",
    "    count += (n&1)\n",
    "    n >>= 1\n",
    "print(count)"
   ]
  },
  {
   "cell_type": "code",
   "execution_count": 16,
   "metadata": {},
   "outputs": [
    {
     "data": {
      "text/plain": [
       "0"
      ]
     },
     "execution_count": 16,
     "metadata": {},
     "output_type": "execute_result"
    }
   ],
   "source": [
    "#method 2: using bitwise and operator and recursive\n",
    "def setBit(n):\n",
    "    count = 0\n",
    "    if n==0:\n",
    "        return count\n",
    "    else:\n",
    "        count += (n&1)\n",
    "        return setBit(n>>1)\n",
    "\n",
    "setBit(11)"
   ]
  },
  {
   "cell_type": "markdown",
   "metadata": {},
   "source": [
    "### Program for Binary To Decimal Conversion"
   ]
  },
  {
   "cell_type": "code",
   "execution_count": 18,
   "metadata": {},
   "outputs": [
    {
     "name": "stdout",
     "output_type": "stream",
     "text": [
      "15.0\n"
     ]
    }
   ],
   "source": [
    "#traditional method\n",
    "import math\n",
    "x = int(input(\"Enter the binary number : \"))\n",
    "x = str(x)\n",
    "sum=0\n",
    "\n",
    "for i in range(len(x)):\n",
    "    curr = len(x)-(i+1)\n",
    "    sum+= (1*math.pow(2,curr))\n",
    "\n",
    "print(sum)\n"
   ]
  },
  {
   "cell_type": "code",
   "execution_count": 22,
   "metadata": {},
   "outputs": [
    {
     "name": "stdout",
     "output_type": "stream",
     "text": [
      "127\n"
     ]
    }
   ],
   "source": [
    "#using function\n",
    "n = input()\n",
    "\n",
    "# Convert n to base 2\n",
    "s = int(n, 2)\n",
    "print(s)"
   ]
  },
  {
   "cell_type": "markdown",
   "metadata": {},
   "source": [
    "### Check if a given array can represent Preorder Traversal of Binary Search Tree"
   ]
  },
  {
   "cell_type": "code",
   "execution_count": null,
   "metadata": {},
   "outputs": [],
   "source": [
    "# Python program for an efficient solution to check if \n",
    "# a given array can represent Preorder traversal of \n",
    "# a Binary Search Tree \n",
    "\n",
    "\t# Initialize current root as minimum possible value \n",
    "\troot = INT_MIN \n",
    "\n",
    "\t# Traverse given array \n",
    "\tfor value in pre: \n",
    "\t\t#NOTE:value is equal to pre[i] according to the \n",
    "\t\t#given algo \n",
    "\t\n",
    "\t\t# If we find a node who is on the right side \n",
    "\t\t# and smaller than root, return False \n",
    "\t\tif value < root : \n",
    "\t\t\treturn False\n",
    "\t\n",
    "\t\t# If value(pre[i]) is in right subtree of stack top, \n",
    "\t\t# Keep removing items smaller than value \n",
    "\t\t# and make the last removed items as new root \n",
    "\t\twhile(len(s) > 0 and s[-1] < value) : \n",
    "\t\t\troot = s.pop() \n",
    "\t\t\n",
    "\t\t# At this point either stack is empty or value \n",
    "\t\t# is smaller than root, push value \n",
    "\t\ts.append(value) \n",
    "\n",
    "\treturn True\n",
    "\n",
    "# Driver Program \n",
    "pre1 = [40 , 30 , 35 , 80 , 100] \n",
    "print \"true\" if canRepresentBST(pre1) == True else \"false\"\n",
    "pre2 = [40 , 30 , 35 , 20 , 80 , 100] \n",
    "print \"true\" if canRepresentBST(pre2) == True else \"false\"\n",
    "\n",
    "# This code is contributed by Nikhil Kumar Singh(nickzuck_007) \n"
   ]
  }
 ],
 "metadata": {
  "kernelspec": {
   "display_name": "Python 3",
   "language": "python",
   "name": "python3"
  },
  "language_info": {
   "codemirror_mode": {
    "name": "ipython",
    "version": 3
   },
   "file_extension": ".py",
   "mimetype": "text/x-python",
   "name": "python",
   "nbconvert_exporter": "python",
   "pygments_lexer": "ipython3",
   "version": "3.7.9"
  }
 },
 "nbformat": 4,
 "nbformat_minor": 4
}
